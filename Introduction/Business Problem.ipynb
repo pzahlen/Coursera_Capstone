{
    "cells": [
        {
            "metadata": {
                "collapsed": true
            },
            "cell_type": "markdown",
            "source": "# Business Problem\n\nIn a city (I am using Bruxelles in my example, just to change it a bit from always using a city in North-America), where would be the best place to open a new restaurant in a specific category (french restaurant, italian reataurant, chinese restaurant, etc.).\nI will structure the city in different categories based on there postal code and gather information from a couple of restaurants in each postal code.\nBased on the gathered information and there rating, it would be possible to find the best place for a restaurant based on the lacking of some good ones.\nThis is just one idea to search for a place, in the future this can be extended to make better guesses on different criterias.\nThe foursquare api gives me the possibility to gather the necessary information in the different postal codes for the interpretation.\nI am guessing I will search for 50 establishements per postal code."
        }
    ],
    "metadata": {
        "kernelspec": {
            "name": "python3",
            "display_name": "Python 3.7",
            "language": "python"
        },
        "language_info": {
            "name": "python",
            "version": "3.7.9",
            "mimetype": "text/x-python",
            "codemirror_mode": {
                "name": "ipython",
                "version": 3
            },
            "pygments_lexer": "ipython3",
            "nbconvert_exporter": "python",
            "file_extension": ".py"
        }
    },
    "nbformat": 4,
    "nbformat_minor": 1
}